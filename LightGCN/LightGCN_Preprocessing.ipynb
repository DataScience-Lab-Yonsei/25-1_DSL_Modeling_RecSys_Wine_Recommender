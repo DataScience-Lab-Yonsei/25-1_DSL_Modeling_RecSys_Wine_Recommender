{
 "cells": [
  {
   "cell_type": "code",
   "execution_count": 1,
   "id": "65ed4edd-33b7-4ab3-9525-f297bfd0ab4f",
   "metadata": {},
   "outputs": [],
   "source": [
    "import os\n",
    "import time\n",
    "import numpy as np\n",
    "import pandas as pd\n",
    "import pickle\n",
    "import zipfile\n",
    "from tqdm import tqdm\n",
    "from scipy import sparse as ssp\n",
    "from sklearn.model_selection import train_test_split\n",
    "\n",
    "import torch\n",
    "import torch.nn as nn\n",
    "import torch.optim as optim\n",
    "from torch.utils.data import Dataset\n",
    "from torch.utils.data import DataLoader\n",
    "import torch.backends.cudnn as cudnn"
   ]
  },
  {
   "cell_type": "code",
   "execution_count": 2,
   "id": "d4b6e8ca-d65b-4c7d-9cc8-f953e1540a9c",
   "metadata": {},
   "outputs": [
    {
     "name": "stdout",
     "output_type": "stream",
     "text": [
      "             user                             wine  rating\n",
      "11    Abright Pan  The Holy Trinity Red Blend 2018     4.2\n",
      "95   Cheoljin Lee  The Holy Trinity Red Blend 2018     4.2\n",
      "143       EVSTERS  The Holy Trinity Red Blend 2018     4.2\n",
      "163  Frank Posega  The Holy Trinity Red Blend 2018     4.0\n",
      "252           L F  The Holy Trinity Red Blend 2018     3.8\n",
      "(342408, 3)\n"
     ]
    },
    {
     "data": {
      "text/html": [
       "<div>\n",
       "<style scoped>\n",
       "    .dataframe tbody tr th:only-of-type {\n",
       "        vertical-align: middle;\n",
       "    }\n",
       "\n",
       "    .dataframe tbody tr th {\n",
       "        vertical-align: top;\n",
       "    }\n",
       "\n",
       "    .dataframe thead th {\n",
       "        text-align: right;\n",
       "    }\n",
       "</style>\n",
       "<table border=\"1\" class=\"dataframe\">\n",
       "  <thead>\n",
       "    <tr style=\"text-align: right;\">\n",
       "      <th></th>\n",
       "      <th>user</th>\n",
       "      <th>wine</th>\n",
       "      <th>rating</th>\n",
       "    </tr>\n",
       "  </thead>\n",
       "  <tbody>\n",
       "    <tr>\n",
       "      <th>11</th>\n",
       "      <td>Abright Pan</td>\n",
       "      <td>The Holy Trinity Red Blend 2018</td>\n",
       "      <td>4.2</td>\n",
       "    </tr>\n",
       "    <tr>\n",
       "      <th>95</th>\n",
       "      <td>Cheoljin Lee</td>\n",
       "      <td>The Holy Trinity Red Blend 2018</td>\n",
       "      <td>4.2</td>\n",
       "    </tr>\n",
       "    <tr>\n",
       "      <th>143</th>\n",
       "      <td>EVSTERS</td>\n",
       "      <td>The Holy Trinity Red Blend 2018</td>\n",
       "      <td>4.2</td>\n",
       "    </tr>\n",
       "    <tr>\n",
       "      <th>163</th>\n",
       "      <td>Frank Posega</td>\n",
       "      <td>The Holy Trinity Red Blend 2018</td>\n",
       "      <td>4.0</td>\n",
       "    </tr>\n",
       "    <tr>\n",
       "      <th>252</th>\n",
       "      <td>L F</td>\n",
       "      <td>The Holy Trinity Red Blend 2018</td>\n",
       "      <td>3.8</td>\n",
       "    </tr>\n",
       "    <tr>\n",
       "      <th>...</th>\n",
       "      <td>...</td>\n",
       "      <td>...</td>\n",
       "      <td>...</td>\n",
       "    </tr>\n",
       "    <tr>\n",
       "      <th>16839907</th>\n",
       "      <td>Brandon Martini</td>\n",
       "      <td>Aspaldi Crianza 2016</td>\n",
       "      <td>4.2</td>\n",
       "    </tr>\n",
       "    <tr>\n",
       "      <th>16839946</th>\n",
       "      <td>Cookbook Guy</td>\n",
       "      <td>Aspaldi Crianza 2016</td>\n",
       "      <td>3.8</td>\n",
       "    </tr>\n",
       "    <tr>\n",
       "      <th>16840633</th>\n",
       "      <td>Paul Sweeney</td>\n",
       "      <td>Berola 2015</td>\n",
       "      <td>3.8</td>\n",
       "    </tr>\n",
       "    <tr>\n",
       "      <th>16840635</th>\n",
       "      <td>Pavel Ivanov RWC</td>\n",
       "      <td>Berola 2015</td>\n",
       "      <td>3.5</td>\n",
       "    </tr>\n",
       "    <tr>\n",
       "      <th>16840729</th>\n",
       "      <td>Timothy Evavold</td>\n",
       "      <td>Berola 2015</td>\n",
       "      <td>4.0</td>\n",
       "    </tr>\n",
       "  </tbody>\n",
       "</table>\n",
       "<p>342408 rows × 3 columns</p>\n",
       "</div>"
      ],
      "text/plain": [
       "                      user                             wine  rating\n",
       "11             Abright Pan  The Holy Trinity Red Blend 2018     4.2\n",
       "95            Cheoljin Lee  The Holy Trinity Red Blend 2018     4.2\n",
       "143                EVSTERS  The Holy Trinity Red Blend 2018     4.2\n",
       "163           Frank Posega  The Holy Trinity Red Blend 2018     4.0\n",
       "252                    L F  The Holy Trinity Red Blend 2018     3.8\n",
       "...                    ...                              ...     ...\n",
       "16839907   Brandon Martini             Aspaldi Crianza 2016     4.2\n",
       "16839946      Cookbook Guy             Aspaldi Crianza 2016     3.8\n",
       "16840633      Paul Sweeney                      Berola 2015     3.8\n",
       "16840635  Pavel Ivanov RWC                      Berola 2015     3.5\n",
       "16840729   Timothy Evavold                      Berola 2015     4.0\n",
       "\n",
       "[342408 rows x 3 columns]"
      ]
     },
     "execution_count": 2,
     "metadata": {},
     "output_type": "execute_result"
    }
   ],
   "source": [
    "# ✅ 1. 데이터 로드\n",
    "file_path = \"data_ver1_final.csv\"\n",
    "df = pd.read_csv(file_path)\n",
    "\n",
    "# ✅ 2. Wide Format → Long Format 변환 (melt 적용)\n",
    "df = df.melt(id_vars=[df.columns[0]], var_name='wine', value_name='rating')\n",
    "df.columns = ['user', 'wine', 'rating']\n",
    "df = df.dropna()\n",
    "print(df.head())\n",
    "print(df.shape)\n",
    "df"
   ]
  },
  {
   "cell_type": "code",
   "execution_count": 3,
   "id": "fe3987bd-2fee-4229-b81d-0d9af9d060b4",
   "metadata": {},
   "outputs": [
    {
     "data": {
      "text/plain": [
       "(342408, 3)"
      ]
     },
     "execution_count": 3,
     "metadata": {},
     "output_type": "execute_result"
    }
   ],
   "source": [
    "user2id = {user: i for i, user in enumerate(df['user'].unique())}\n",
    "wine2id = {wine: i for i, wine in enumerate(df['wine'].unique())}\n",
    "\n",
    "# ✅ 기존 데이터프레임에 매핑 적용\n",
    "df['user'] = df['user'].map(user2id)\n",
    "df['wine'] = df['wine'].map(wine2id)\n",
    "\n",
    "df.loc[:, 'rating' == ] = 1\n",
    "df.shape"
   ]
  },
  {
   "cell_type": "code",
   "execution_count": 4,
   "id": "802dce1b-e3dd-42fa-a356-f8c19784a6b5",
   "metadata": {},
   "outputs": [
    {
     "name": "stdout",
     "output_type": "stream",
     "text": [
      "(273926, 3)\n",
      "(34241, 3)\n",
      "(34241, 3)\n"
     ]
    }
   ],
   "source": [
    "train, temp = train_test_split(df, test_size=0.2, random_state=42)\n",
    "val, test = train_test_split(temp, test_size=0.5, random_state=42)\n",
    "print(train.shape)\n",
    "print(val.shape)\n",
    "print(test.shape)"
   ]
  },
  {
   "cell_type": "code",
   "execution_count": 5,
   "id": "f438e813-2182-4aa4-bb3a-41c680ae3a07",
   "metadata": {},
   "outputs": [
    {
     "name": "stderr",
     "output_type": "stream",
     "text": [
      "100%|██████████| 273926/273926 [00:11<00:00, 23942.04it/s]\n"
     ]
    }
   ],
   "source": [
    "all_wines = df['wine'].unique()\n",
    "\n",
    "users, wines, labels = [], [], []\n",
    "\n",
    "user_wine_set = set(zip(train['user'], train['wine']))\n",
    "\n",
    "num_neg = 4\n",
    "\n",
    "for u, i in tqdm(user_wine_set):\n",
    "    users.append(u)\n",
    "    wines.append(i)\n",
    "    labels.append(1)\n",
    "    for _ in range(num_neg):\n",
    "        neg_item = np.random.choice(all_wines)\n",
    "        while (u, neg_item) in user_wine_set:\n",
    "            neg_item = np.random.choice(all_wines)\n",
    "        users.append(u)\n",
    "        wines.append(neg_item)\n",
    "        labels.append(0)"
   ]
  },
  {
   "cell_type": "code",
   "execution_count": 6,
   "id": "8efc1536-e328-40eb-aabb-1b9cd9346a33",
   "metadata": {},
   "outputs": [
    {
     "name": "stdout",
     "output_type": "stream",
     "text": [
      "   user   wine  rating\n",
      "0   322  12443       1\n",
      "1   322  22496       0\n",
      "2   322  17577       0\n",
      "3   322  21851       0\n",
      "4   322  26269       0\n",
      "(1369630, 3)\n"
     ]
    }
   ],
   "source": [
    "train_neg = pd.DataFrame(list(zip(users, wines, labels)), columns=['user', 'wine', 'rating'])\n",
    "print(train_neg.head())\n",
    "print(train_neg.shape)"
   ]
  },
  {
   "cell_type": "code",
   "execution_count": 7,
   "id": "55d8185d-6447-4dc1-8487-36ba8209c87d",
   "metadata": {},
   "outputs": [
    {
     "name": "stdout",
     "output_type": "stream",
     "text": [
      "          user   wine  rating\n",
      "3931686     21   8437     1.0\n",
      "13970172   165  29978     1.0\n",
      "7139152     19  15320     1.0\n",
      "11128119   320  23880     1.0\n",
      "6712285     16  14404     1.0\n",
      "          user   wine  rating\n",
      "634715     363   1362     1.0\n",
      "13812975   106  29641     1.0\n",
      "156752     253    336     1.0\n",
      "8770038    208  18819     1.0\n",
      "2601361     60   5582     1.0\n"
     ]
    }
   ],
   "source": [
    "print(val.head())\n",
    "print(test.head())"
   ]
  },
  {
   "cell_type": "code",
   "execution_count": 8,
   "id": "8937bc4b-8e25-4c1c-87a3-635fe83510f3",
   "metadata": {},
   "outputs": [],
   "source": [
    "train_neg.to_csv(\"train_data_ver1.csv\", index=False)\n",
    "val.to_csv(\"val_data_ver1.csv\", index=False)\n",
    "test.to_csv(\"test_data_ver1.csv\", index=False)"
   ]
  },
  {
   "cell_type": "code",
   "execution_count": null,
   "id": "dbdc50d1",
   "metadata": {},
   "outputs": [],
   "source": [
    "# python code/main.py --decay=1e-4 --lr=0.001 --layer=3 --seed=2025 --dataset=\"wine\" --topks=\"[20]\" --recdim=64 --epochs=10 --testbatch=46"
   ]
  }
 ],
 "metadata": {
  "kernelspec": {
   "display_name": "Python 3 (ipykernel)",
   "language": "python",
   "name": "python3"
  },
  "language_info": {
   "codemirror_mode": {
    "name": "ipython",
    "version": 3
   },
   "file_extension": ".py",
   "mimetype": "text/x-python",
   "name": "python",
   "nbconvert_exporter": "python",
   "pygments_lexer": "ipython3",
   "version": "3.10.12"
  }
 },
 "nbformat": 4,
 "nbformat_minor": 5
}
